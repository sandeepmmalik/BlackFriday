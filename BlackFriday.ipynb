{
 "cells": [
  {
   "cell_type": "markdown",
   "metadata": {},
   "source": [
    "# Black Friday: A study of sales trough consumer behaviours"
   ]
  },
  {
   "cell_type": "markdown",
   "metadata": {},
   "source": [
    "<H2>About Dataset</H2>\n",
    "\n",
    "Dataset of 550 000 observations about the black Friday in a retail store, it contains different kinds of variables either numerical or categorical. It contains missing values.\n",
    "\n",
    "<H2>Description</H2>\n",
    "\n",
    "The dataset here is a sample of the transactions made in a retail store. The store wants to know better the customer purchase behaviour against different products. Specifically, here the problem is a regression problem where we are trying to predict the dependent variable (the amount of purchase) with the help of the information contained in the other variables.\n",
    "\n",
    "Classification problem can also be settled in this dataset since several variables are categorical, and some other approaches could be \"Predicting the age of the consumer\" or even \"Predict the category of goods bought\". This dataset is also particularly convenient for clustering and maybe find different clusters of consumers within it.\n",
    "\n",
    "<H2>Acknowledgements</H2>\n",
    "\n",
    "The dataset comes from a competition hosted by <b>Analytics Vidhya</b>\n"
   ]
  },
  {
   "cell_type": "markdown",
   "metadata": {},
   "source": [
    "<h3>Column Description</h3>\n",
    "\n",
    "<table>\n",
    "    <tr>\n",
    "        <th> Column Name </th> <th> Description </th>\n",
    "    </tr>\n",
    "    <tr> <td>User_ID</td> <td>\tUser ID </td>\n",
    "    </tr>\n",
    "    <tr> <td> Product_ID </td> <td>\t\tProduct ID</td>\n",
    "    </tr>\n",
    "    <tr> <td> Gender </td> <td>\t\tSex of User</td>\n",
    "    </tr>\n",
    "    <tr> <td> Age </td> <td>\t\tAge in bins </td>\n",
    "    </tr>\n",
    "    <tr> <td> Occupation </td> <td>\t\tOccupation</td>\n",
    "    </tr>\n",
    "    <tr> <td> City_Category </td> <td>\t\tCategory of the City (A,B,C)</td>\n",
    "    </tr>\n",
    "    <tr> <td> Stay_In_Current_City_Years </td> <td>\t\tNumber of years stay in current city </td>\n",
    "    </tr>\n",
    "    <tr> <td> Marital_Status </td> <td>\t\tMarital Status</td>\n",
    "    </tr>\n",
    "    <tr> <td> Product_Category_1 </td> <td>\t\tProduct Category</td>\n",
    "    </tr>\n",
    "    <tr> <td> Product_Category_2 </td> <td>\t\tProduct may belongs to other category also</td>\n",
    "    </tr>\n",
    "    <tr> <td> Product_Category_3 </td> <td>\t\tProduct may belongs to other category also</td>\n",
    "    </tr>\n",
    "    <tr> <td> Purchase </td> <td>\tPurchase amount in dollars</td>\n",
    "    </tr>\n",
    "    \n",
    "</table>\n",
    "\n",
    "\n"
   ]
  },
  {
   "cell_type": "markdown",
   "metadata": {},
   "source": [
    "<H3> Analysis Points (Use Cases)</H3>\n",
    "\n",
    "<UL>\n",
    "    <LI> Spending Pattern </LI>\n",
    "    <UL>\n",
    "        <LI> Genderwise </LI>\n",
    "        <LI> Age-Group wise </LI>\n",
    "        <LI> Marital Status Wise </LI>\n",
    "        <LI> Occupation wise </LI>\n",
    "        <LI> City Category based </LI>\n",
    "        <LI> Stay in City </LI>\n",
    "        <LI> Product Category wise</LI>\n",
    "    </UL>       \n",
    "    <LI> Sale Pattern </LI>\n",
    "    <UL>\n",
    "        <LI> Product ID Base (Higest and Lowest selling Product) </LI>\n",
    "        <LI> Product Category Base (Best and worst Product Category)</LI>\n",
    "        <LI> Gender + Product Category (Who spends for what)</LI>\n",
    "        <LI> Marital Status + Product Category (Who spends for what)</LI>\n",
    "        <LI> Age + Product Category (Who spends for what)</LI>\n",
    "    </UL>\n",
    "</UL>    "
   ]
  },
  {
   "cell_type": "code",
   "execution_count": 2,
   "metadata": {},
   "outputs": [],
   "source": [
    "# Import various modules\n",
    "\n",
    "import numpy as np # linear algebra\n",
    "import pandas as pd # data processing, CSV file I/O (e.g. pd.read_csv)\n",
    "import seaborn as sns\n",
    "import matplotlib as mlp\n",
    "import matplotlib.pyplot as plt"
   ]
  },
  {
   "cell_type": "code",
   "execution_count": 3,
   "metadata": {},
   "outputs": [],
   "source": [
    "# Read data \n",
    "\n",
    "file_loc = \"D:/DataScience/Tableau/Black Friday/\"\n",
    "file_name = \"BlackFriday.csv\"\n",
    "\n",
    "bf_data = pd.read_csv(file_loc+file_name, sep=',')\n"
   ]
  },
  {
   "cell_type": "code",
   "execution_count": 4,
   "metadata": {},
   "outputs": [
    {
     "data": {
      "text/html": [
       "<div>\n",
       "<style scoped>\n",
       "    .dataframe tbody tr th:only-of-type {\n",
       "        vertical-align: middle;\n",
       "    }\n",
       "\n",
       "    .dataframe tbody tr th {\n",
       "        vertical-align: top;\n",
       "    }\n",
       "\n",
       "    .dataframe thead th {\n",
       "        text-align: right;\n",
       "    }\n",
       "</style>\n",
       "<table border=\"1\" class=\"dataframe\">\n",
       "  <thead>\n",
       "    <tr style=\"text-align: right;\">\n",
       "      <th></th>\n",
       "      <th>User_ID</th>\n",
       "      <th>Occupation</th>\n",
       "      <th>Marital_Status</th>\n",
       "      <th>Product_Category_1</th>\n",
       "      <th>Product_Category_2</th>\n",
       "      <th>Product_Category_3</th>\n",
       "      <th>Purchase</th>\n",
       "    </tr>\n",
       "  </thead>\n",
       "  <tbody>\n",
       "    <tr>\n",
       "      <th>count</th>\n",
       "      <td>5.375770e+05</td>\n",
       "      <td>537577.00000</td>\n",
       "      <td>537577.000000</td>\n",
       "      <td>537577.000000</td>\n",
       "      <td>370591.000000</td>\n",
       "      <td>164278.000000</td>\n",
       "      <td>537577.000000</td>\n",
       "    </tr>\n",
       "    <tr>\n",
       "      <th>mean</th>\n",
       "      <td>1.002992e+06</td>\n",
       "      <td>8.08271</td>\n",
       "      <td>0.408797</td>\n",
       "      <td>5.295546</td>\n",
       "      <td>9.842144</td>\n",
       "      <td>12.669840</td>\n",
       "      <td>9333.859853</td>\n",
       "    </tr>\n",
       "    <tr>\n",
       "      <th>std</th>\n",
       "      <td>1.714393e+03</td>\n",
       "      <td>6.52412</td>\n",
       "      <td>0.491612</td>\n",
       "      <td>3.750701</td>\n",
       "      <td>5.087259</td>\n",
       "      <td>4.124341</td>\n",
       "      <td>4981.022133</td>\n",
       "    </tr>\n",
       "    <tr>\n",
       "      <th>min</th>\n",
       "      <td>1.000001e+06</td>\n",
       "      <td>0.00000</td>\n",
       "      <td>0.000000</td>\n",
       "      <td>1.000000</td>\n",
       "      <td>2.000000</td>\n",
       "      <td>3.000000</td>\n",
       "      <td>185.000000</td>\n",
       "    </tr>\n",
       "    <tr>\n",
       "      <th>25%</th>\n",
       "      <td>1.001495e+06</td>\n",
       "      <td>2.00000</td>\n",
       "      <td>0.000000</td>\n",
       "      <td>1.000000</td>\n",
       "      <td>5.000000</td>\n",
       "      <td>9.000000</td>\n",
       "      <td>5866.000000</td>\n",
       "    </tr>\n",
       "    <tr>\n",
       "      <th>50%</th>\n",
       "      <td>1.003031e+06</td>\n",
       "      <td>7.00000</td>\n",
       "      <td>0.000000</td>\n",
       "      <td>5.000000</td>\n",
       "      <td>9.000000</td>\n",
       "      <td>14.000000</td>\n",
       "      <td>8062.000000</td>\n",
       "    </tr>\n",
       "    <tr>\n",
       "      <th>75%</th>\n",
       "      <td>1.004417e+06</td>\n",
       "      <td>14.00000</td>\n",
       "      <td>1.000000</td>\n",
       "      <td>8.000000</td>\n",
       "      <td>15.000000</td>\n",
       "      <td>16.000000</td>\n",
       "      <td>12073.000000</td>\n",
       "    </tr>\n",
       "    <tr>\n",
       "      <th>max</th>\n",
       "      <td>1.006040e+06</td>\n",
       "      <td>20.00000</td>\n",
       "      <td>1.000000</td>\n",
       "      <td>18.000000</td>\n",
       "      <td>18.000000</td>\n",
       "      <td>18.000000</td>\n",
       "      <td>23961.000000</td>\n",
       "    </tr>\n",
       "  </tbody>\n",
       "</table>\n",
       "</div>"
      ],
      "text/plain": [
       "            User_ID    Occupation  Marital_Status  Product_Category_1  \\\n",
       "count  5.375770e+05  537577.00000   537577.000000       537577.000000   \n",
       "mean   1.002992e+06       8.08271        0.408797            5.295546   \n",
       "std    1.714393e+03       6.52412        0.491612            3.750701   \n",
       "min    1.000001e+06       0.00000        0.000000            1.000000   \n",
       "25%    1.001495e+06       2.00000        0.000000            1.000000   \n",
       "50%    1.003031e+06       7.00000        0.000000            5.000000   \n",
       "75%    1.004417e+06      14.00000        1.000000            8.000000   \n",
       "max    1.006040e+06      20.00000        1.000000           18.000000   \n",
       "\n",
       "       Product_Category_2  Product_Category_3       Purchase  \n",
       "count       370591.000000       164278.000000  537577.000000  \n",
       "mean             9.842144           12.669840    9333.859853  \n",
       "std              5.087259            4.124341    4981.022133  \n",
       "min              2.000000            3.000000     185.000000  \n",
       "25%              5.000000            9.000000    5866.000000  \n",
       "50%              9.000000           14.000000    8062.000000  \n",
       "75%             15.000000           16.000000   12073.000000  \n",
       "max             18.000000           18.000000   23961.000000  "
      ]
     },
     "execution_count": 4,
     "metadata": {},
     "output_type": "execute_result"
    }
   ],
   "source": [
    "# summary of the data (mean, STD, Min, Max)\n",
    "bf_data.describe()"
   ]
  },
  {
   "cell_type": "code",
   "execution_count": 5,
   "metadata": {},
   "outputs": [
    {
     "data": {
      "text/plain": [
       "Index(['User_ID', 'Product_ID', 'Gender', 'Age', 'Occupation', 'City_Category',\n",
       "       'Stay_In_Current_City_Years', 'Marital_Status', 'Product_Category_1',\n",
       "       'Product_Category_2', 'Product_Category_3', 'Purchase'],\n",
       "      dtype='object')"
      ]
     },
     "execution_count": 5,
     "metadata": {},
     "output_type": "execute_result"
    }
   ],
   "source": [
    "bf_data.columns"
   ]
  },
  {
   "cell_type": "code",
   "execution_count": 6,
   "metadata": {},
   "outputs": [
    {
     "name": "stdout",
     "output_type": "stream",
     "text": [
      "<class 'pandas.core.frame.DataFrame'>\n",
      "RangeIndex: 537577 entries, 0 to 537576\n",
      "Data columns (total 12 columns):\n",
      "User_ID                       537577 non-null int64\n",
      "Product_ID                    537577 non-null object\n",
      "Gender                        537577 non-null object\n",
      "Age                           537577 non-null object\n",
      "Occupation                    537577 non-null int64\n",
      "City_Category                 537577 non-null object\n",
      "Stay_In_Current_City_Years    537577 non-null object\n",
      "Marital_Status                537577 non-null int64\n",
      "Product_Category_1            537577 non-null int64\n",
      "Product_Category_2            370591 non-null float64\n",
      "Product_Category_3            164278 non-null float64\n",
      "Purchase                      537577 non-null int64\n",
      "dtypes: float64(2), int64(5), object(5)\n",
      "memory usage: 49.2+ MB\n"
     ]
    }
   ],
   "source": [
    "# how data is distributed \n",
    "bf_data.info()"
   ]
  },
  {
   "cell_type": "code",
   "execution_count": 7,
   "metadata": {},
   "outputs": [
    {
     "data": {
      "text/html": [
       "<div>\n",
       "<style scoped>\n",
       "    .dataframe tbody tr th:only-of-type {\n",
       "        vertical-align: middle;\n",
       "    }\n",
       "\n",
       "    .dataframe tbody tr th {\n",
       "        vertical-align: top;\n",
       "    }\n",
       "\n",
       "    .dataframe thead th {\n",
       "        text-align: right;\n",
       "    }\n",
       "</style>\n",
       "<table border=\"1\" class=\"dataframe\">\n",
       "  <thead>\n",
       "    <tr style=\"text-align: right;\">\n",
       "      <th></th>\n",
       "      <th>User_ID</th>\n",
       "      <th>Product_ID</th>\n",
       "      <th>Gender</th>\n",
       "      <th>Age</th>\n",
       "      <th>Occupation</th>\n",
       "      <th>City_Category</th>\n",
       "      <th>Stay_In_Current_City_Years</th>\n",
       "      <th>Marital_Status</th>\n",
       "      <th>Product_Category_1</th>\n",
       "      <th>Product_Category_2</th>\n",
       "      <th>Product_Category_3</th>\n",
       "      <th>Purchase</th>\n",
       "    </tr>\n",
       "  </thead>\n",
       "  <tbody>\n",
       "    <tr>\n",
       "      <th>0</th>\n",
       "      <td>1000001</td>\n",
       "      <td>P00069042</td>\n",
       "      <td>F</td>\n",
       "      <td>0-17</td>\n",
       "      <td>10</td>\n",
       "      <td>A</td>\n",
       "      <td>2</td>\n",
       "      <td>0</td>\n",
       "      <td>3</td>\n",
       "      <td>NaN</td>\n",
       "      <td>NaN</td>\n",
       "      <td>8370</td>\n",
       "    </tr>\n",
       "    <tr>\n",
       "      <th>1</th>\n",
       "      <td>1000001</td>\n",
       "      <td>P00248942</td>\n",
       "      <td>F</td>\n",
       "      <td>0-17</td>\n",
       "      <td>10</td>\n",
       "      <td>A</td>\n",
       "      <td>2</td>\n",
       "      <td>0</td>\n",
       "      <td>1</td>\n",
       "      <td>6.0</td>\n",
       "      <td>14.0</td>\n",
       "      <td>15200</td>\n",
       "    </tr>\n",
       "    <tr>\n",
       "      <th>2</th>\n",
       "      <td>1000001</td>\n",
       "      <td>P00087842</td>\n",
       "      <td>F</td>\n",
       "      <td>0-17</td>\n",
       "      <td>10</td>\n",
       "      <td>A</td>\n",
       "      <td>2</td>\n",
       "      <td>0</td>\n",
       "      <td>12</td>\n",
       "      <td>NaN</td>\n",
       "      <td>NaN</td>\n",
       "      <td>1422</td>\n",
       "    </tr>\n",
       "    <tr>\n",
       "      <th>3</th>\n",
       "      <td>1000001</td>\n",
       "      <td>P00085442</td>\n",
       "      <td>F</td>\n",
       "      <td>0-17</td>\n",
       "      <td>10</td>\n",
       "      <td>A</td>\n",
       "      <td>2</td>\n",
       "      <td>0</td>\n",
       "      <td>12</td>\n",
       "      <td>14.0</td>\n",
       "      <td>NaN</td>\n",
       "      <td>1057</td>\n",
       "    </tr>\n",
       "    <tr>\n",
       "      <th>4</th>\n",
       "      <td>1000002</td>\n",
       "      <td>P00285442</td>\n",
       "      <td>M</td>\n",
       "      <td>55+</td>\n",
       "      <td>16</td>\n",
       "      <td>C</td>\n",
       "      <td>4+</td>\n",
       "      <td>0</td>\n",
       "      <td>8</td>\n",
       "      <td>NaN</td>\n",
       "      <td>NaN</td>\n",
       "      <td>7969</td>\n",
       "    </tr>\n",
       "  </tbody>\n",
       "</table>\n",
       "</div>"
      ],
      "text/plain": [
       "   User_ID Product_ID Gender   Age  Occupation City_Category  \\\n",
       "0  1000001  P00069042      F  0-17          10             A   \n",
       "1  1000001  P00248942      F  0-17          10             A   \n",
       "2  1000001  P00087842      F  0-17          10             A   \n",
       "3  1000001  P00085442      F  0-17          10             A   \n",
       "4  1000002  P00285442      M   55+          16             C   \n",
       "\n",
       "  Stay_In_Current_City_Years  Marital_Status  Product_Category_1  \\\n",
       "0                          2               0                   3   \n",
       "1                          2               0                   1   \n",
       "2                          2               0                  12   \n",
       "3                          2               0                  12   \n",
       "4                         4+               0                   8   \n",
       "\n",
       "   Product_Category_2  Product_Category_3  Purchase  \n",
       "0                 NaN                 NaN      8370  \n",
       "1                 6.0                14.0     15200  \n",
       "2                 NaN                 NaN      1422  \n",
       "3                14.0                 NaN      1057  \n",
       "4                 NaN                 NaN      7969  "
      ]
     },
     "execution_count": 7,
     "metadata": {},
     "output_type": "execute_result"
    }
   ],
   "source": [
    "#top 5 rows from dataset\n",
    "bf_data.head()"
   ]
  },
  {
   "cell_type": "code",
   "execution_count": 8,
   "metadata": {},
   "outputs": [
    {
     "data": {
      "text/html": [
       "<div>\n",
       "<style scoped>\n",
       "    .dataframe tbody tr th:only-of-type {\n",
       "        vertical-align: middle;\n",
       "    }\n",
       "\n",
       "    .dataframe tbody tr th {\n",
       "        vertical-align: top;\n",
       "    }\n",
       "\n",
       "    .dataframe thead th {\n",
       "        text-align: right;\n",
       "    }\n",
       "</style>\n",
       "<table border=\"1\" class=\"dataframe\">\n",
       "  <thead>\n",
       "    <tr style=\"text-align: right;\">\n",
       "      <th></th>\n",
       "      <th>User_ID</th>\n",
       "      <th>Product_ID</th>\n",
       "      <th>Gender</th>\n",
       "      <th>Age</th>\n",
       "      <th>Occupation</th>\n",
       "      <th>City_Category</th>\n",
       "      <th>Stay_In_Current_City_Years</th>\n",
       "      <th>Marital_Status</th>\n",
       "      <th>Product_Category_1</th>\n",
       "      <th>Product_Category_2</th>\n",
       "      <th>Product_Category_3</th>\n",
       "      <th>Purchase</th>\n",
       "    </tr>\n",
       "  </thead>\n",
       "  <tbody>\n",
       "    <tr>\n",
       "      <th>537572</th>\n",
       "      <td>1004737</td>\n",
       "      <td>P00193542</td>\n",
       "      <td>M</td>\n",
       "      <td>36-45</td>\n",
       "      <td>16</td>\n",
       "      <td>C</td>\n",
       "      <td>1</td>\n",
       "      <td>0</td>\n",
       "      <td>1</td>\n",
       "      <td>2.0</td>\n",
       "      <td>NaN</td>\n",
       "      <td>11664</td>\n",
       "    </tr>\n",
       "    <tr>\n",
       "      <th>537573</th>\n",
       "      <td>1004737</td>\n",
       "      <td>P00111142</td>\n",
       "      <td>M</td>\n",
       "      <td>36-45</td>\n",
       "      <td>16</td>\n",
       "      <td>C</td>\n",
       "      <td>1</td>\n",
       "      <td>0</td>\n",
       "      <td>1</td>\n",
       "      <td>15.0</td>\n",
       "      <td>16.0</td>\n",
       "      <td>19196</td>\n",
       "    </tr>\n",
       "    <tr>\n",
       "      <th>537574</th>\n",
       "      <td>1004737</td>\n",
       "      <td>P00345942</td>\n",
       "      <td>M</td>\n",
       "      <td>36-45</td>\n",
       "      <td>16</td>\n",
       "      <td>C</td>\n",
       "      <td>1</td>\n",
       "      <td>0</td>\n",
       "      <td>8</td>\n",
       "      <td>15.0</td>\n",
       "      <td>NaN</td>\n",
       "      <td>8043</td>\n",
       "    </tr>\n",
       "    <tr>\n",
       "      <th>537575</th>\n",
       "      <td>1004737</td>\n",
       "      <td>P00285842</td>\n",
       "      <td>M</td>\n",
       "      <td>36-45</td>\n",
       "      <td>16</td>\n",
       "      <td>C</td>\n",
       "      <td>1</td>\n",
       "      <td>0</td>\n",
       "      <td>5</td>\n",
       "      <td>NaN</td>\n",
       "      <td>NaN</td>\n",
       "      <td>7172</td>\n",
       "    </tr>\n",
       "    <tr>\n",
       "      <th>537576</th>\n",
       "      <td>1004737</td>\n",
       "      <td>P00118242</td>\n",
       "      <td>M</td>\n",
       "      <td>36-45</td>\n",
       "      <td>16</td>\n",
       "      <td>C</td>\n",
       "      <td>1</td>\n",
       "      <td>0</td>\n",
       "      <td>5</td>\n",
       "      <td>8.0</td>\n",
       "      <td>NaN</td>\n",
       "      <td>6875</td>\n",
       "    </tr>\n",
       "  </tbody>\n",
       "</table>\n",
       "</div>"
      ],
      "text/plain": [
       "        User_ID Product_ID Gender    Age  Occupation City_Category  \\\n",
       "537572  1004737  P00193542      M  36-45          16             C   \n",
       "537573  1004737  P00111142      M  36-45          16             C   \n",
       "537574  1004737  P00345942      M  36-45          16             C   \n",
       "537575  1004737  P00285842      M  36-45          16             C   \n",
       "537576  1004737  P00118242      M  36-45          16             C   \n",
       "\n",
       "       Stay_In_Current_City_Years  Marital_Status  Product_Category_1  \\\n",
       "537572                          1               0                   1   \n",
       "537573                          1               0                   1   \n",
       "537574                          1               0                   8   \n",
       "537575                          1               0                   5   \n",
       "537576                          1               0                   5   \n",
       "\n",
       "        Product_Category_2  Product_Category_3  Purchase  \n",
       "537572                 2.0                 NaN     11664  \n",
       "537573                15.0                16.0     19196  \n",
       "537574                15.0                 NaN      8043  \n",
       "537575                 NaN                 NaN      7172  \n",
       "537576                 8.0                 NaN      6875  "
      ]
     },
     "execution_count": 8,
     "metadata": {},
     "output_type": "execute_result"
    }
   ],
   "source": [
    "#bottom 5 rows from dataset\n",
    "bf_data.tail()"
   ]
  },
  {
   "cell_type": "code",
   "execution_count": 9,
   "metadata": {},
   "outputs": [
    {
     "data": {
      "text/plain": [
       "User_ID                       False\n",
       "Product_ID                    False\n",
       "Gender                        False\n",
       "Age                           False\n",
       "Occupation                    False\n",
       "City_Category                 False\n",
       "Stay_In_Current_City_Years    False\n",
       "Marital_Status                False\n",
       "Product_Category_1            False\n",
       "Product_Category_2             True\n",
       "Product_Category_3             True\n",
       "Purchase                      False\n",
       "dtype: bool"
      ]
     },
     "execution_count": 9,
     "metadata": {},
     "output_type": "execute_result"
    }
   ],
   "source": [
    "# to check which columns have null values.\n",
    "bf_data.isna().any()"
   ]
  },
  {
   "cell_type": "code",
   "execution_count": 10,
   "metadata": {},
   "outputs": [
    {
     "name": "stdout",
     "output_type": "stream",
     "text": [
      "Product_Category_2 [nan  6. 14.  2.  8. 15. 16. 11.  5.  3.  4. 12.  9. 10. 17. 13.  7. 18.] Product_Category_2\n",
      "2.0     48481\n",
      "3.0      2835\n",
      "4.0     25225\n",
      "5.0     25874\n",
      "6.0     16251\n",
      "7.0       615\n",
      "8.0     63058\n",
      "9.0      5591\n",
      "10.0     2991\n",
      "11.0    13945\n",
      "12.0     5419\n",
      "13.0    10369\n",
      "14.0    54158\n",
      "15.0    37317\n",
      "16.0    42602\n",
      "17.0    13130\n",
      "18.0     2730\n",
      "dtype: int64\n",
      "-----------------------------------------------------------------------------------\n",
      "Product_Category_3 [nan 14. 17.  5.  4. 16. 15.  8.  9. 13.  6. 12.  3. 18. 11. 10.] Product_Category_3\n",
      "3.0       600\n",
      "4.0      1840\n",
      "5.0     16380\n",
      "6.0      4818\n",
      "8.0     12384\n",
      "9.0     11414\n",
      "10.0     1698\n",
      "11.0     1773\n",
      "12.0     9094\n",
      "13.0     5385\n",
      "14.0    18121\n",
      "15.0    27611\n",
      "16.0    32148\n",
      "17.0    16449\n",
      "18.0     4563\n",
      "dtype: int64\n"
     ]
    }
   ],
   "source": [
    "# From above its clear that Product_Category_2 and Product_Category_3 have some null values. \n",
    "# We could check their unique values and then assign a default value accordingly for NaNs\n",
    "\n",
    "print('Product_Category_2', bf_data['Product_Category_2'].unique(), bf_data.groupby('Product_Category_2').size())\n",
    "print('-----------------------------------------------------------------------------------')\n",
    "print('Product_Category_3', bf_data['Product_Category_3'].unique(), bf_data.groupby('Product_Category_3').size())\n"
   ]
  },
  {
   "cell_type": "code",
   "execution_count": 11,
   "metadata": {},
   "outputs": [
    {
     "name": "stdout",
     "output_type": "stream",
     "text": [
      "Product_Category_2 [ 0  6 14  2  8 15 16 11  5  3  4 12  9 10 17 13  7 18] Product_Category_2\n",
      "0     166986\n",
      "2      48481\n",
      "3       2835\n",
      "4      25225\n",
      "5      25874\n",
      "6      16251\n",
      "7        615\n",
      "8      63058\n",
      "9       5591\n",
      "10      2991\n",
      "11     13945\n",
      "12      5419\n",
      "13     10369\n",
      "14     54158\n",
      "15     37317\n",
      "16     42602\n",
      "17     13130\n",
      "18      2730\n",
      "dtype: int64\n",
      "-----------------------------------------------------------------------------------\n",
      "Product_Category_3 [ 0 14 17  5  4 16 15  8  9 13  6 12  3 18 11 10] Product_Category_3\n",
      "0     373299\n",
      "3        600\n",
      "4       1840\n",
      "5      16380\n",
      "6       4818\n",
      "8      12384\n",
      "9      11414\n",
      "10      1698\n",
      "11      1773\n",
      "12      9094\n",
      "13      5385\n",
      "14     18121\n",
      "15     27611\n",
      "16     32148\n",
      "17     16449\n",
      "18      4563\n",
      "dtype: int64\n"
     ]
    }
   ],
   "source": [
    "# From above, all values are in integer range. we can assign value zero for the NaN cases\n",
    "bf_data.fillna(value=0,inplace=True)\n",
    "## Also looks like the product categories are float while they can be int.\n",
    "bf_data[\"Product_Category_2\"] = bf_data[\"Product_Category_2\"].astype(int)\n",
    "bf_data[\"Product_Category_3\"] = bf_data[\"Product_Category_3\"].astype(int)\n",
    "\n",
    "print('Product_Category_2', bf_data['Product_Category_2'].unique(), bf_data.groupby('Product_Category_2').size())\n",
    "print('-----------------------------------------------------------------------------------')\n",
    "print('Product_Category_3', bf_data['Product_Category_3'].unique(), bf_data.groupby('Product_Category_3').size())\n"
   ]
  },
  {
   "cell_type": "markdown",
   "metadata": {},
   "source": [
    "<h3> Visualizing the Data on various parameters </h3>"
   ]
  },
  {
   "cell_type": "code",
   "execution_count": 12,
   "metadata": {},
   "outputs": [
    {
     "data": {
      "text/plain": [
       "<matplotlib.axes._subplots.AxesSubplot at 0x1752b106ba8>"
      ]
     },
     "execution_count": 12,
     "metadata": {},
     "output_type": "execute_result"
    },
    {
     "data": {
      "image/png": "[encoded data removed]",
      "text/plain": [
       "<Figure size 432x288 with 1 Axes>"
      ]
     },
     "metadata": {
      "needs_background": "light"
     },
     "output_type": "display_data"
    }
   ],
   "source": [
    "#Count Plot for Gender\n",
    "sns.countplot(bf_data['Gender'])"
   ]
  },
  {
   "cell_type": "markdown",
   "metadata": {},
   "source": [
    "Above graph shows <b>less number of females participated in sale</b>, which is unlikely, but as it is coming from data we can assume thats because their male counterparts (Father/ Husband/ Boyfriend/ Brother) paid for the purchases."
   ]
  },
  {
   "cell_type": "code",
   "execution_count": 13,
   "metadata": {},
   "outputs": [
    {
     "data": {
      "text/plain": [
       "<matplotlib.axes._subplots.AxesSubplot at 0x1752c6b7400>"
      ]
     },
     "execution_count": 13,
     "metadata": {},
     "output_type": "execute_result"
    },
    {
     "data": {
      "image/png": "[encoded data removed]",
      "text/plain": [
       "<Figure size 432x288 with 1 Axes>"
      ]
     },
     "metadata": {
      "needs_background": "light"
     },
     "output_type": "display_data"
    }
   ],
   "source": [
    "#Count Plot for Age\n",
    "sns.countplot(bf_data['Age'])"
   ]
  },
  {
   "cell_type": "markdown",
   "metadata": {},
   "source": [
    "From above visualization it is very clear that the <b>majority of buyers in the sale were from the age group 26-35years</b>."
   ]
  },
  {
   "cell_type": "code",
   "execution_count": 43,
   "metadata": {},
   "outputs": [
    {
     "data": {
      "text/plain": [
       "<matplotlib.axes._subplots.AxesSubplot at 0x1753afd07b8>"
      ]
     },
     "execution_count": 43,
     "metadata": {},
     "output_type": "execute_result"
    },
    {
     "data": {
      "image/png": "[encoded data removed]",
      "text/plain": [
       "<Figure size 1440x1080 with 1 Axes>"
      ]
     },
     "metadata": {
      "needs_background": "light"
     },
     "output_type": "display_data"
    }
   ],
   "source": [
    "#Count Plot for Age and Gender\n",
    "\n",
    "plt.figure(figsize=(20,15))\n",
    "sns.countplot(bf_data['Age'], hue=bf_data['Gender'])"
   ]
  },
  {
   "cell_type": "markdown",
   "metadata": {},
   "source": [
    "Above graph shows less number of females participated in sale under each age-group, which is unlikely, as we stated earlier this is because their male counterparts (Father/ Husband/ Boyfriend/ Brother) paid for the purchases."
   ]
  },
  {
   "cell_type": "code",
   "execution_count": 28,
   "metadata": {},
   "outputs": [
    {
     "data": {
      "text/plain": [
       "<matplotlib.axes._subplots.AxesSubplot at 0x1754ec0a160>"
      ]
     },
     "execution_count": 28,
     "metadata": {},
     "output_type": "execute_result"
    },
    {
     "data": {
      "image/png": "[encoded data removed]",
      "text/plain": [
       "<Figure size 432x288 with 1 Axes>"
      ]
     },
     "metadata": {
      "needs_background": "light"
     },
     "output_type": "display_data"
    }
   ],
   "source": [
    "# check further - how many of these males were actually married? \n",
    "# For this lets create a column that represents gender+married status and then use it as hue.\n",
    "\n",
    "bf_data['combined_G_M'] = bf_data.apply(lambda x:'%s_%s' % (x['Gender'],x['Marital_Status']),axis=1)\n",
    "sns.countplot(bf_data['Age'],hue=bf_data['combined_G_M'])"
   ]
  },
  {
   "cell_type": "markdown",
   "metadata": {},
   "source": [
    "From above graph it is clear that there were no married male or female in the age group 0-17, which makes sense too. Also we can identify that majority of purchases were made by the males in age group 26-35 followed by age group 18-25 & 36-45"
   ]
  },
  {
   "cell_type": "code",
   "execution_count": 30,
   "metadata": {},
   "outputs": [
    {
     "data": {
      "text/plain": [
       "<matplotlib.axes._subplots.AxesSubplot at 0x1752d165be0>"
      ]
     },
     "execution_count": 30,
     "metadata": {},
     "output_type": "execute_result"
    },
    {
     "data": {
      "image/png": "[encoded data removed]",
      "text/plain": [
       "<Figure size 432x288 with 1 Axes>"
      ]
     },
     "metadata": {
      "needs_background": "light"
     },
     "output_type": "display_data"
    }
   ],
   "source": [
    "#Now lets find who brought what from Product Category 1\n",
    "sns.countplot(bf_data['Product_Category_1'],hue=bf_data['combined_G_M'])"
   ]
  },
  {
   "cell_type": "markdown",
   "metadata": {},
   "source": [
    "Its clear that 1,5, & 8 are the most selling items from Product Category1 and majority of purchases were done by males "
   ]
  },
  {
   "cell_type": "code",
   "execution_count": null,
   "metadata": {},
   "outputs": [],
   "source": [
    "# check further - Which Product Category/ Sub Category is most selling during the sale period\n",
    "# For this lets create a column that represents Product Category 1 + Product Category 2 + Product Category 3 and then use it as hue.\n",
    "\n",
    "bf_data['combined_PC1_PC2_PC3'] = bf_data.apply(lambda x:'%s_%s_%s' % (x['Product_Category_1'],x['Product_Category_2'],x['Product_Category_3']),axis=1)\n",
    "#bf_data['combined_PC1_PC2_PC3'] = bf_data.apply(lambda x:'%s_%s' % (x['Product_Category_1'],x['Product_Category_2']),axis=1)\n",
    "\n",
    "#print(bf_data['combined_PC1_PC2_PC3'].unique())"
   ]
  },
  {
   "cell_type": "code",
   "execution_count": 40,
   "metadata": {},
   "outputs": [
    {
     "data": {
      "text/plain": [
       "<matplotlib.axes._subplots.AxesSubplot at 0x17539272be0>"
      ]
     },
     "execution_count": 40,
     "metadata": {},
     "output_type": "execute_result"
    },
    {
     "data": {
      "image/png": "[encoded data removed]",
      "text/plain": [
       "<Figure size 432x288 with 1 Axes>"
      ]
     },
     "metadata": {
      "needs_background": "light"
     },
     "output_type": "display_data"
    }
   ],
   "source": [
    "sns.countplot(bf_data['Product_ID'], hue=bf_data['Marital_Status'])"
   ]
  },
  {
   "cell_type": "code",
   "execution_count": null,
   "metadata": {},
   "outputs": [],
   "source": [
    "#Count Plot for Product ID\n",
    "plt.figure(figsize=(25,20))\n",
    "plt.legend(fontsize=20)\n",
    "plt.xlabel(fontsize=20)\n",
    "plt.xlabel(fontsize=20)\n",
    "sns.countplot(bf_data['Product_ID'])"
   ]
  },
  {
   "cell_type": "code",
   "execution_count": null,
   "metadata": {},
   "outputs": [],
   "source": []
  }
 ],
 "metadata": {
  "kernelspec": {
   "display_name": "Python 3",
   "language": "python",
   "name": "python3"
  },
  "language_info": {
   "codemirror_mode": {
    "name": "ipython",
    "version": 3
   },
   "file_extension": ".py",
   "mimetype": "text/x-python",
   "name": "python",
   "nbconvert_exporter": "python",
   "pygments_lexer": "ipython3",
   "version": "3.7.0"
  }
 },
 "nbformat": 4,
 "nbformat_minor": 2
}
